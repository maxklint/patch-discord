{
 "cells": [
  {
   "cell_type": "markdown",
   "metadata": {},
   "source": [
    "### High-level structure\n",
    "\n",
    "In a setup with a separate controller and a sound engine, the router fits in the middle:\n",
    "\n",
    "```\n",
    "+---+          +---+           +---+\n",
    "| C | == M ==> | R |  == M ==> | S |\n",
    "+---+          +---+           +---+\n",
    "\n",
    "C - controller\n",
    "M - MIDI bus\n",
    "R - router\n",
    "S - synth\n",
    "```\n",
    "\n",
    "---\n",
    "\n",
    "The internal structure of the router is demonstated by the figure below:\n",
    "\n",
    "```\n",
    "     ⎡ ⎤    ⎡   ⎤    ⎡ ⎤\n",
    "M ==>⎢I⎢ -> ⎢ P ⎢ -> ⎢O⎢ ==> M\n",
    "     ⎣ ⎦    ⎣   ⎦    ⎣ ⎦\n",
    "                ^\n",
    "                ^\n",
    "                G\n",
    "               \n",
    "M - MIDI bus\n",
    "I - input accumulator\n",
    "P - permutation\n",
    "G - internal state generator\n",
    "O - output accumulator\n",
    "```\n",
    "\n",
    "---\n",
    "\n",
    "The principal operation performed by the router is a permutation of an input vector (permutation here is not to be understood in its combinatorial meaning). To adapt to the event-driven model of the MIDI protocol, input and output accumulators are employed. The input accumulator receives MIDI CC events and outputs a vector of the latest values on each of the preconfigured channels. The output accumulator perfoms the reverse operation: it receives the result of the permutation and emits MIDI CC events on channels on which the value has changed.\n",
    "\n",
    "One cycle of the router's operation consists of:\n",
    "1. freezing the input vector\n",
    "2. performing a permutation\n",
    "3. sending to the bus the difference between the permutation result and the previous cycle's output\n",
    "\n",
    "As has been already mentioned, the permutation is not static. The purpose of the internal state generator is to periodically generate the permutation parameters. The state generator is not clocked at the same rate as the main cycle.\n",
    "\n",
    "The clock rate of the main cycle should be approximately the rate at which the knobs are scanned by the controller, so that CC events are not missed, otherwise the user will experience unresponsiveness.\n",
    "\n",
    "The clock rate of the state generator should be substantially slower, otherwise something akin to a frantic LFO on all the configured channels will be heard. In general, the state change rate should be a user-controllable parameter."
   ]
  }
 ],
 "metadata": {
  "kernelspec": {
   "display_name": "Python 3",
   "language": "python",
   "name": "python3"
  },
  "language_info": {
   "codemirror_mode": {
    "name": "ipython",
    "version": 3
   },
   "file_extension": ".py",
   "mimetype": "text/x-python",
   "name": "python",
   "nbconvert_exporter": "python",
   "pygments_lexer": "ipython3",
   "version": "3.7.1"
  }
 },
 "nbformat": 4,
 "nbformat_minor": 2
}
