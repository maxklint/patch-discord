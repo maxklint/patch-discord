{
 "cells": [
  {
   "cell_type": "markdown",
   "metadata": {},
   "source": [
    "### Internal State\n",
    "\n",
    "The internal state of the router comprises the translation vector and the matrix. The state should be gradually variable, so that varying the state does not result in jumps in the output.\n",
    "\n",
    "The translation vector can be randomly chosen at the inititialization time and fixed from then on.\n",
    "\n",
    "The matrix should be periodically regenerated, and the next matrix should be closely related to the previous matrix. The elements of the matrix should be in the range $[-2; 2]$. A parameterized function that always yields values within a certain range is necessary.\n",
    "\n",
    "A simple example of such a function is the sine function:\n",
    "\\begin{equation}\n",
    "x = a \\cdot sin{(f t + \\phi)} + c\n",
    "\\end{equation}\n",
    "\n",
    "Since the range is symmetrical with respect to $0$, the constant $c$ is $0$.\n",
    "\n",
    "$a$ is the scaling factor controlling the output range. It should be set to $2$.\n",
    "\n",
    "Each row of coefficients can be picked as samples from a section of a sine wave one period long.\n",
    "The equation for the elements of a row is:\n",
    "\n",
    "\\begin{equation}\n",
    "p_{i} = 2 \\cdot sin{((i - 1) \\frac{2 \\pi}{n} + \\phi)}\n",
    "\\end{equation}\n",
    "\n",
    "$n$ is the number of coefficients, which is the number of inputs. $i$ is the index of the element in the row, in the range $[1; n]$.\n",
    "\n",
    "This way there is one peak and one valley per row, that is per output channel. This translates to one input channel being the dominant control, and another input channel being its opposite.\n",
    "\n",
    "The phase $\\phi$ is the variable parameter of the permutation. As it changes, the row of coefficients slightly shifts along the sine wave, but never changes abruptly. Initial phases per row can be randomly chosen at initialization time, just like the translation vector.\n",
    "\n",
    "$\\phi$ is gradually incremented. The rate of change of $\\phi$ is the rate of the state generator mentioned in the section on high-level structure. The precise value can be user-controlled, but the full cycle (change of $\\phi$ by $2\\pi$ radians) should take several minutes, so that the fact that the state is periodic is not obvious to the user."
   ]
  },
  {
   "cell_type": "code",
   "execution_count": 12,
   "metadata": {
    "scrolled": true
   },
   "outputs": [
    {
     "data": {
      "image/png": "[encoded data removed]",
      "text/plain": [
       "<Figure size 1080x144 with 1 Axes>"
      ]
     },
     "metadata": {
      "needs_background": "light"
     },
     "output_type": "display_data"
    }
   ],
   "source": [
    "import matplotlib.pyplot as plt\n",
    "import numpy as np\n",
    "\n",
    "PHI = .333\n",
    "\n",
    "def coefficient(index, n):\n",
    "    return 2 * np.sin((index * 2 * np.pi) / (n - 1) + PHI)\n",
    "\n",
    "N = 8 # number of coefficients\n",
    "\n",
    "x = np.arange(0, N, 1)\n",
    "samples = np.array([coefficient(xi, N) for xi in x])\n",
    "\n",
    "ref_x = np.arange(0, N - 0.9, 0.1)\n",
    "ref_y = np.array([coefficient(xi, N) for xi in ref_x])\n",
    "\n",
    "fig, ax = plt.subplots(figsize=(15, 2))\n",
    "ax.plot(x, samples, 'o', ref_x, ref_y, '-')\n",
    "plt.show()"
   ]
  },
  {
   "cell_type": "markdown",
   "metadata": {},
   "source": [
    "There is one more consideration. With the coefficients sampled a sine wave, the user might notice a spatial pattern of the dominant control and the opposite control being $n/2$ knobs apart if there are $n$ inputs. In order to conceal this spatial pattern, one more step is added. After the coefficients are sampled, they are shuffled, so that they appear in the matrix in a different order.\n",
    "\n",
    "The shuffling can be represented with a shuffling matrix $S$ that has the same dimensions as the permutation matrix. The element of each row of the shuffling matrix $s_{i}$ represents the column in the permutation matrix to which the $i$-th sample from the sine wave will go. So the rows of the permutation matrix are shufflings of numbers from 1 to $n$, where $n$ is the number of coefficients."
   ]
  },
  {
   "cell_type": "code",
   "execution_count": 15,
   "metadata": {},
   "outputs": [
    {
     "name": "stdout",
     "output_type": "stream",
     "text": [
      "shuffling:\n",
      "from 0 to 1\n",
      "from 1 to 5\n",
      "from 2 to 4\n",
      "from 3 to 2\n",
      "from 4 to 0\n",
      "from 5 to 6\n",
      "from 6 to 7\n",
      "from 7 to 3\n",
      "\n",
      "samples:\n",
      "0.654 | 1.885 | 1.697 | 0.231 | -1.409 | -1.988 | -1.070 | 0.654\n",
      "\n",
      "coefficients:\n",
      "1.885 | -1.988 | -1.409 | 1.697 | 0.654 | -1.070 | 0.654 | 0.231\n"
     ]
    }
   ],
   "source": [
    "import random\n",
    "\n",
    "indices = [x for x in range(N)]\n",
    "shuffling = random.sample(indices, len(indices))\n",
    "    \n",
    "coefficients = [0 for x in range(N)]\n",
    "for i in indices:\n",
    "    coefficients[i] = samples[shuffling[i]]\n",
    "\n",
    "print(\"shuffling:\")\n",
    "print(\"\\n\".join([\"from {0} to {1}\".format(i, v) for i, v in enumerate(shuffling)]))\n",
    "print(\"\\nsamples:\")\n",
    "print(\" | \".join([\"{:.3f}\".format(yi) for yi in samples]))\n",
    "print(\"\\ncoefficients:\")\n",
    "print(\" | \".join([\"{:.3f}\".format(yi) for yi in coefficients]))"
   ]
  }
 ],
 "metadata": {
  "kernelspec": {
   "display_name": "Python 3",
   "language": "python",
   "name": "python3"
  },
  "language_info": {
   "codemirror_mode": {
    "name": "ipython",
    "version": 3
   },
   "file_extension": ".py",
   "mimetype": "text/x-python",
   "name": "python",
   "nbconvert_exporter": "python",
   "pygments_lexer": "ipython3",
   "version": "3.7.1"
  }
 },
 "nbformat": 4,
 "nbformat_minor": 2
}
