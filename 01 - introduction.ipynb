{
 "cells": [
  {
   "cell_type": "markdown",
   "metadata": {},
   "source": [
    "# Patch Discord\n",
    "## An aleatoric MIDI router"
   ]
  },
  {
   "cell_type": "markdown",
   "metadata": {},
   "source": [
    "### Introduction\n",
    "\n",
    "An aletoric router is a device that serves the purpose of erasing the labels from the control knobs of a synthesizer. This set of documents describes a concept of an aleatoric MIDI router.\n",
    "\n",
    "In a system comprising a controller and a synthesizer, the router can be placed in the middle, receiving a number of control signals and outputting altered signals on the same channels. As can be guessed from the name, the router randomly permutes signal destinations. However, it does not simply route its inputs to different channels. This would have resulted in simply renaming the knobs, and not yet erasing their labels. Instead, the router performs a permutation such that *all* the input channels affect *all* the output channels. This way, a musician using a controller cannot know what the result of a turn of a knob would be, and thus cannot apply his or her knowledge and experience, but has to completely rely on listening instead. Furthermore, to exclude the possibility of the musician getting accustomed to the routing with time and mentally mapping the controls to their new destinations, the internal state of the router gradually changes, so that the routing is never static. This results in output changes even when the musician does not provide any input. This side effect acts as an invitation for the musician to actively work even when just maintaining a certain timbre.\n",
    "\n",
    "The aleatoric router is clearly not a utility device, but rather a catalyst of a creative practice.\n",
    "\n",
    "### Notes on implementation\n",
    "\n",
    "While from the general description above does not imply a single implementation, the rest of the documents develop a possible implementation of the router.\n",
    "\n",
    "The router can be realised as a MIDI effect plugin for DAWs, as well as a standalone hardware device. Moreover, an analog variant is also concievable, replacing MIDI with CV signals. However, the current implementation focuses on MIDI."
   ]
  }
 ],
 "metadata": {
  "kernelspec": {
   "display_name": "Python 3",
   "language": "python",
   "name": "python3"
  },
  "language_info": {
   "codemirror_mode": {
    "name": "ipython",
    "version": 3
   },
   "file_extension": ".py",
   "mimetype": "text/x-python",
   "name": "python",
   "nbconvert_exporter": "python",
   "pygments_lexer": "ipython3",
   "version": "3.7.1"
  }
 },
 "nbformat": 4,
 "nbformat_minor": 2
}
